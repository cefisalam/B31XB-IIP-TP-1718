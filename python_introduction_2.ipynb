{
 "cells": [
  {
   "cell_type": "markdown",
   "metadata": {},
   "source": [
    "What we will cover in this notebook:\n",
    "* list, tuple, dictionaries\n",
    "* set-comprehensions\n",
    "* loops, iterators \n",
    "* main function"
   ]
  },
  {
   "cell_type": "code",
   "execution_count": 1,
   "metadata": {
    "collapsed": true
   },
   "outputs": [],
   "source": [
    "%matplotlib inline\n",
    "import numpy as np\n",
    "from itertools import product \n"
   ]
  },
  {
   "cell_type": "markdown",
   "metadata": {},
   "source": [
    "## Control-flow"
   ]
  },
  {
   "cell_type": "markdown",
   "metadata": {},
   "source": [
    "<div class=\"alert alert-success\">\n",
    "\n",
    "<b>EXERCISE-1</b>:\n",
    "<ul>\n",
    "\n",
    "<li> Write a function which checks if a list has some element, similarly checks that a list is empty</li>\n",
    "</ul>\n",
    "\n",
    "</div>"
   ]
  },
  {
   "cell_type": "code",
   "execution_count": null,
   "metadata": {
    "collapsed": true
   },
   "outputs": [],
   "source": []
  },
  {
   "cell_type": "code",
   "execution_count": null,
   "metadata": {},
   "outputs": [],
   "source": []
  },
  {
   "cell_type": "code",
   "execution_count": null,
   "metadata": {},
   "outputs": [],
   "source": []
  },
  {
   "cell_type": "markdown",
   "metadata": {},
   "source": [
    "<div class=\"alert alert-success\">\n",
    "\n",
    "<b>EXERCISE-2</b>:\n",
    "<ul>\n",
    "<li> Write a statement to check the same for an integer, check your statements, when your integer is 0</li>\n",
    "</ul>\n",
    "</div>"
   ]
  },
  {
   "cell_type": "code",
   "execution_count": null,
   "metadata": {},
   "outputs": [],
   "source": []
  },
  {
   "cell_type": "code",
   "execution_count": null,
   "metadata": {},
   "outputs": [],
   "source": []
  },
  {
   "cell_type": "markdown",
   "metadata": {},
   "source": [
    "<div class=\"alert alert-success\">\n",
    "\n",
    "<b>EXERCISE-3</b>:\n",
    "<ul>\n",
    "\n",
    "<l> Considering the following lits, tuple:</l>\n",
    "<l> `month_index = [1, 2, 3, 4, 5]`,   `month_name=('Jan', 'Feb', 'Mar', 'Apr', 'May')`</l>\n",
    "<l> perform the following tasks:</l>\n",
    "<li>In two different ways iterate over the list and print each element </li>\n",
    "</ul>\n",
    "\n",
    "</div>"
   ]
  },
  {
   "cell_type": "code",
   "execution_count": null,
   "metadata": {},
   "outputs": [],
   "source": []
  },
  {
   "cell_type": "code",
   "execution_count": null,
   "metadata": {},
   "outputs": [],
   "source": []
  },
  {
   "cell_type": "markdown",
   "metadata": {},
   "source": [
    "<div class=\"alert alert-success\">\n",
    "\n",
    "<li>Iterate over the tuple and print the month names</li>\n",
    "\n",
    "</div>"
   ]
  },
  {
   "cell_type": "code",
   "execution_count": null,
   "metadata": {},
   "outputs": [],
   "source": []
  },
  {
   "cell_type": "markdown",
   "metadata": {},
   "source": [
    "<div class=\"alert alert-success\">\n",
    "\n",
    "<li>Iterate over the month_index and month_name and create a dictionary `month_dict` using **set-comprehension** and **zip**</li>\n",
    "</div>"
   ]
  },
  {
   "cell_type": "code",
   "execution_count": null,
   "metadata": {},
   "outputs": [],
   "source": []
  },
  {
   "cell_type": "markdown",
   "metadata": {},
   "source": [
    "<div class=\"alert alert-success\">\n",
    "\n",
    "<b>EXERCISE-4</b>:\n",
    "<ul>\n",
    "<l>considering the year index list `year_index=[2016, 2017, 2018]` and `month_index` and `month_name`</l>\n",
    "<li>Using **`zip`**, **`set-comprehension`**, and **`product`** from `itertools` in a way to get the following output</li>\n",
    "\n",
    "<li>```(2016, ('Jan', 1))\n",
    "(2016, ('Feb', 2))\n",
    "(2016, ('Mar', 3))\n",
    "(2016, ('Apr', 4))\n",
    "(2016, ('May', 5))\n",
    "(2017, ('Jan', 1))\n",
    "(2017, ('Feb', 2))\n",
    "(2017, ('Mar', 3))\n",
    "(2017, ('Apr', 4))\n",
    "(2017, ('May', 5))\n",
    "(2018, ('Jan', 1))\n",
    "(2018, ('Feb', 2))\n",
    "(2018, ('Mar', 3))\n",
    "(2018, ('Apr', 4))\n",
    "(2018, ('May', 5))```</li>\n",
    "</ul>\n",
    "</div>"
   ]
  },
  {
   "cell_type": "code",
   "execution_count": null,
   "metadata": {},
   "outputs": [],
   "source": []
  },
  {
   "cell_type": "code",
   "execution_count": null,
   "metadata": {
    "collapsed": true
   },
   "outputs": [],
   "source": []
  },
  {
   "cell_type": "code",
   "execution_count": null,
   "metadata": {},
   "outputs": [],
   "source": []
  },
  {
   "cell_type": "markdown",
   "metadata": {},
   "source": [
    "## Main function"
   ]
  },
  {
   "cell_type": "markdown",
   "metadata": {},
   "source": [
    "<div class=\"alert alert-success\">\n",
    "\n",
    "<b>EXERCISE-5</b>:\n",
    "<ul>\n",
    "<l>Write a python script **`print_int_lists.py`** in script folder, which is able to accept a input from the user and print the integers up to the user requested input </l>\n",
    "\n",
    "</ul>\n",
    "</div>"
   ]
  },
  {
   "cell_type": "code",
   "execution_count": null,
   "metadata": {},
   "outputs": [],
   "source": []
  },
  {
   "cell_type": "code",
   "execution_count": null,
   "metadata": {
    "collapsed": true
   },
   "outputs": [],
   "source": []
  }
 ],
 "metadata": {
  "kernelspec": {
   "display_name": "Python 3",
   "language": "python",
   "name": "python3"
  },
  "language_info": {
   "codemirror_mode": {
    "name": "ipython",
    "version": 3
   },
   "file_extension": ".py",
   "mimetype": "text/x-python",
   "name": "python",
   "nbconvert_exporter": "python",
   "pygments_lexer": "ipython3",
   "version": "3.6.4"
  }
 },
 "nbformat": 4,
 "nbformat_minor": 2
}
